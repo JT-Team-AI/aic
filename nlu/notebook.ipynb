{
 "cells": [
  {
   "cell_type": "code",
   "execution_count": 1,
   "metadata": {},
   "outputs": [
    {
     "name": "stderr",
     "output_type": "stream",
     "text": [
      "DEBUG:root:test\n"
     ]
    }
   ],
   "source": [
    "%matplotlib inline\n",
    "import matplotlib.pyplot as plt\n",
    "fig_size = [16, 8]\n",
    "import matplotlib\n",
    "import matplotlib.patches as mpatches\n",
    "matplotlib.rcParams.update({'font.size': 14})\n",
    "plt.rcParams[\"figure.figsize\"] = fig_size\n",
    "\n",
    "import logging\n",
    "logger = logging.getLogger()\n",
    "logger.setLevel(logging.DEBUG)\n",
    "logging.debug(\"test\")\n",
    "\n",
    "%load_ext autoreload\n",
    "%autoreload 2\n",
    "\n",
    "import sklearn\n",
    "import spacy\n",
    "import json\n",
    "\n",
    "from lib.utils import read_json"
   ]
  },
  {
   "cell_type": "code",
   "execution_count": 2,
   "metadata": {
    "collapsed": true
   },
   "outputs": [],
   "source": [
    "# https://spacy.io/api/annotation#named-entities\n",
    "\n",
    "# import urllib\n",
    "# url = \"https://www.liigo.world/api/v1/contents?&filter[category]=activity&filter[words]=Kamakura&filter[budget_more]=15000&filter[budget_less]=50000&page[offset]=0&page[limit]=20&sort=recommended&currency=JPY&locale=en&langs=en&fields[contents]=category,title,description,latitude,longitude,address,rate,languageId,price,client,reviewCount,imageCount\"\n",
    "# parsed = urllib.parse.parse_qs(url)\n",
    "# urllib.urlencode(parsed)\n",
    "\n",
    "train_data_path = 'data/testData.json'\n",
    "search_data_path = 'data/processed.json'\n",
    "\n",
    "search_data = read_json(search_data_path)\n",
    "\n",
    "# Get texts, intents and entities from training data\n",
    "\n",
    "train_data = read_json(train_data_path)\n",
    "examples = train_data['rasa_nlu_data']['common_examples']\n",
    "texts = [x['text'] for x in examples]\n",
    "intents = [x['intent'] for x in examples]\n",
    "entities = [x['entities'] for x in examples]"
   ]
  },
  {
   "cell_type": "code",
   "execution_count": null,
   "metadata": {
    "collapsed": true
   },
   "outputs": [],
   "source": []
  },
  {
   "cell_type": "code",
   "execution_count": null,
   "metadata": {
    "collapsed": true
   },
   "outputs": [],
   "source": []
  },
  {
   "cell_type": "code",
   "execution_count": null,
   "metadata": {
    "collapsed": true
   },
   "outputs": [],
   "source": []
  },
  {
   "cell_type": "code",
   "execution_count": 58,
   "metadata": {
    "collapsed": true
   },
   "outputs": [],
   "source": []
  },
  {
   "cell_type": "code",
   "execution_count": 59,
   "metadata": {
    "collapsed": true
   },
   "outputs": [],
   "source": []
  },
  {
   "cell_type": "code",
   "execution_count": 60,
   "metadata": {},
   "outputs": [],
   "source": []
  },
  {
   "cell_type": "code",
   "execution_count": null,
   "metadata": {
    "collapsed": true
   },
   "outputs": [],
   "source": [
    "entity_extractor = EntityExtractor()\n",
    "entity_extractor.load_data(path=\"data/demoData.json\")"
   ]
  },
  {
   "cell_type": "code",
   "execution_count": 84,
   "metadata": {
    "collapsed": true
   },
   "outputs": [],
   "source": []
  },
  {
   "cell_type": "code",
   "execution_count": 85,
   "metadata": {},
   "outputs": [],
   "source": []
  },
  {
   "cell_type": "code",
   "execution_count": 86,
   "metadata": {
    "collapsed": true
   },
   "outputs": [],
   "source": []
  },
  {
   "cell_type": "code",
   "execution_count": null,
   "metadata": {
    "collapsed": true
   },
   "outputs": [],
   "source": []
  }
 ],
 "metadata": {
  "kernelspec": {
   "display_name": "Python 3",
   "language": "python",
   "name": "python3"
  },
  "language_info": {
   "codemirror_mode": {
    "name": "ipython",
    "version": 3
   },
   "file_extension": ".py",
   "mimetype": "text/x-python",
   "name": "python",
   "nbconvert_exporter": "python",
   "pygments_lexer": "ipython3",
   "version": "3.6.2"
  }
 },
 "nbformat": 4,
 "nbformat_minor": 2
}
