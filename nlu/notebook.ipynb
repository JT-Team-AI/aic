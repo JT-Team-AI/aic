{
 "cells": [
  {
   "cell_type": "code",
   "execution_count": 1,
   "metadata": {},
   "outputs": [
    {
     "name": "stderr",
     "output_type": "stream",
     "text": [
      "DEBUG:root:test\n"
     ]
    }
   ],
   "source": [
    "%matplotlib inline\n",
    "import matplotlib.pyplot as plt\n",
    "fig_size = [16, 8]\n",
    "import matplotlib\n",
    "import matplotlib.patches as mpatches\n",
    "matplotlib.rcParams.update({'font.size': 14})\n",
    "plt.rcParams[\"figure.figsize\"] = fig_size\n",
    "\n",
    "import logging\n",
    "logger = logging.getLogger()\n",
    "logger.setLevel(logging.DEBUG)\n",
    "logging.debug(\"test\")\n",
    "\n",
    "%load_ext autoreload\n",
    "%autoreload 2\n",
    "\n",
    "import sklearn\n",
    "import spacy\n",
    "import json\n",
    "\n",
    "from lib.utils import read_json"
   ]
  },
  {
   "cell_type": "code",
   "execution_count": 2,
   "metadata": {
    "collapsed": true
   },
   "outputs": [],
   "source": [
    "# https://spacy.io/api/annotation#named-entities\n",
    "\n",
    "train_data_path = 'data/testData.json'\n",
    "search_data_path = 'data/processed.json'\n",
    "\n",
    "search_data = read_json(search_data_path)\n",
    "\n",
    "# Get texts, intents and entities from training data\n",
    "\n",
    "train_data = read_json(train_data_path)\n",
    "examples = train_data['rasa_nlu_data']['common_examples']\n",
    "texts = [x['text'] for x in examples]\n",
    "intents = [x['intent'] for x in examples]\n",
    "entities = [x['entities'] for x in examples]"
   ]
  },
  {
   "cell_type": "code",
   "execution_count": null,
   "metadata": {
    "collapsed": true
   },
   "outputs": [],
   "source": []
  },
  {
   "cell_type": "code",
   "execution_count": null,
   "metadata": {
    "collapsed": true
   },
   "outputs": [],
   "source": []
  },
  {
   "cell_type": "code",
   "execution_count": 3,
   "metadata": {
    "collapsed": true
   },
   "outputs": [],
   "source": [
    "# import urllib\n",
    "# url = \"https://www.liigo.world/api/v1/contents?&filter[category]=activity&filter[words]=Kamakura&filter[budget_more]=15000&filter[budget_less]=50000&page[offset]=0&page[limit]=20&sort=recommended&currency=JPY&locale=en&langs=en&fields[contents]=category,title,description,latitude,longitude,address,rate,languageId,price,client,reviewCount,imageCount\"\n",
    "# parsed = urllib.parse.parse_qs(url)\n",
    "# urllib.urlencode(parsed)"
   ]
  },
  {
   "cell_type": "code",
   "execution_count": null,
   "metadata": {
    "collapsed": true
   },
   "outputs": [],
   "source": []
  },
  {
   "cell_type": "code",
   "execution_count": 4,
   "metadata": {
    "collapsed": true
   },
   "outputs": [],
   "source": [
    "# Next page\n",
    "# Previous page\n",
    "# sort by <some value>\n",
    "# change langs to <en or jp>\n",
    "# change currency to <>"
   ]
  },
  {
   "cell_type": "code",
   "execution_count": null,
   "metadata": {
    "collapsed": true
   },
   "outputs": [],
   "source": []
  },
  {
   "cell_type": "code",
   "execution_count": null,
   "metadata": {
    "collapsed": true
   },
   "outputs": [],
   "source": []
  },
  {
   "cell_type": "code",
   "execution_count": null,
   "metadata": {
    "collapsed": true
   },
   "outputs": [],
   "source": []
  },
  {
   "cell_type": "code",
   "execution_count": 16,
   "metadata": {
    "collapsed": true
   },
   "outputs": [],
   "source": [
    "from lib.semantic_search import SemanticSearch"
   ]
  },
  {
   "cell_type": "code",
   "execution_count": null,
   "metadata": {
    "collapsed": true
   },
   "outputs": [],
   "source": []
  },
  {
   "cell_type": "code",
   "execution_count": 21,
   "metadata": {
    "collapsed": true
   },
   "outputs": [],
   "source": [
    "semantic_search = SemanticSearch()"
   ]
  },
  {
   "cell_type": "code",
   "execution_count": 24,
   "metadata": {
    "collapsed": true
   },
   "outputs": [],
   "source": [
    "default_nlu_input = {\n",
    "        'text': \"sample text\",\n",
    "        'language': \"en\",\n",
    "        'intent': {\n",
    "            'intent',\n",
    "            'score'\n",
    "        },\n",
    "        'entities': [\n",
    "            {\n",
    "                'name': None,\n",
    "                'start': None,\n",
    "                'end': None,\n",
    "                'type': None\n",
    "            }\n",
    "        ]\n",
    "    }"
   ]
  },
  {
   "cell_type": "code",
   "execution_count": 25,
   "metadata": {},
   "outputs": [
    {
     "data": {
      "text/plain": [
       "{'currency': None,\n",
       " 'filter': {'budget_less': None,\n",
       "  'budget_more': None,\n",
       "  'category': None,\n",
       "  'distance': None,\n",
       "  'location': {'lat': None, 'lng': None},\n",
       "  'tags': None,\n",
       "  'words': None},\n",
       " 'langs': None,\n",
       " 'locale': None,\n",
       " 'page': {'limit': None, 'offset': None},\n",
       " 'sort': None}"
      ]
     },
     "execution_count": 25,
     "metadata": {},
     "output_type": "execute_result"
    }
   ],
   "source": [
    "semantic_search.update_search_criteria(default_nlu_input)"
   ]
  },
  {
   "cell_type": "code",
   "execution_count": null,
   "metadata": {
    "collapsed": true
   },
   "outputs": [],
   "source": []
  },
  {
   "cell_type": "code",
   "execution_count": null,
   "metadata": {
    "collapsed": true
   },
   "outputs": [],
   "source": []
  }
 ],
 "metadata": {
  "kernelspec": {
   "display_name": "Python 3",
   "language": "python",
   "name": "python3"
  },
  "language_info": {
   "codemirror_mode": {
    "name": "ipython",
    "version": 3
   },
   "file_extension": ".py",
   "mimetype": "text/x-python",
   "name": "python",
   "nbconvert_exporter": "python",
   "pygments_lexer": "ipython3",
   "version": "3.6.2"
  }
 },
 "nbformat": 4,
 "nbformat_minor": 2
}
